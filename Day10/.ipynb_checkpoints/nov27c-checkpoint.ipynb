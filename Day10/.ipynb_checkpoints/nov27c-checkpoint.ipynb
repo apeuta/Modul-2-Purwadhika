{
 "cells": [
  {
   "cell_type": "code",
   "execution_count": 1,
   "metadata": {},
   "outputs": [],
   "source": [
    "import numpy as np"
   ]
  },
  {
   "cell_type": "markdown",
   "metadata": {},
   "source": [
    "### __Notasi Matematika__"
   ]
  },
  {
   "cell_type": "code",
   "execution_count": 2,
   "metadata": {},
   "outputs": [
    {
     "name": "stdout",
     "output_type": "stream",
     "text": [
      "[(1, 2), (3, 4), (1, 2), (3, 4)]\n",
      "[[2 4]\n",
      " [6 8]]\n",
      "[(1, 2), (3, 4), (1, 2), (3, 4)]\n",
      "[[2 4]\n",
      " [6 8]]\n"
     ]
    }
   ],
   "source": [
    "ex = [(1,2), (3,4)]\n",
    "ox = np.array(ex)\n",
    "\n",
    "print (ex + ex)\n",
    "print (ox + ox)\n",
    "print (ex * 2)\n",
    "print (ox * 2)"
   ]
  },
  {
   "cell_type": "code",
   "execution_count": 4,
   "metadata": {},
   "outputs": [],
   "source": [
    "a = np.array([\n",
    "    [0, -7],\n",
    "    [-1, 3]\n",
    "])\n",
    "b = np.array([\n",
    "    [2, 4],\n",
    "    [3, 8]\n",
    "])"
   ]
  },
  {
   "cell_type": "code",
   "execution_count": 5,
   "metadata": {},
   "outputs": [
    {
     "name": "stdout",
     "output_type": "stream",
     "text": [
      "[[ 2 -3]\n",
      " [ 2 11]]\n"
     ]
    }
   ],
   "source": [
    "print (a + b)"
   ]
  },
  {
   "cell_type": "code",
   "execution_count": 6,
   "metadata": {},
   "outputs": [
    {
     "name": "stdout",
     "output_type": "stream",
     "text": [
      "[[ -2 -11]\n",
      " [ -4  -5]]\n"
     ]
    }
   ],
   "source": [
    "print (a-b)"
   ]
  },
  {
   "cell_type": "code",
   "execution_count": 7,
   "metadata": {},
   "outputs": [
    {
     "name": "stdout",
     "output_type": "stream",
     "text": [
      "[[ 2 -5]\n",
      " [ 1  5]]\n"
     ]
    }
   ],
   "source": [
    "print (a + 2)"
   ]
  },
  {
   "cell_type": "markdown",
   "metadata": {},
   "source": [
    "__Ft. Bilangan Skalar__"
   ]
  },
  {
   "cell_type": "code",
   "execution_count": 8,
   "metadata": {},
   "outputs": [
    {
     "name": "stdout",
     "output_type": "stream",
     "text": [
      "[4 5 6 7]\n",
      "[-2 -1  0  1]\n",
      "[ 3  6  9 12]\n",
      "[0.33333333 0.66666667 1.         1.33333333]\n",
      "[3 2 3 4]\n"
     ]
    }
   ],
   "source": [
    "x = np.array([1,2,3,4])\n",
    "print (x + 3)\n",
    "print (x - 3)\n",
    "print (x * 3)\n",
    "print (x / 3)\n",
    "x[0] += 2\n",
    "print (x)"
   ]
  },
  {
   "cell_type": "markdown",
   "metadata": {},
   "source": [
    "### __Menyelesaikan persamaan dengan 2 variabel__"
   ]
  },
  {
   "cell_type": "markdown",
   "metadata": {},
   "source": [
    "2x + 1y = 5 </br>\n",
    "1x + 1y = 7 </br>\n",
    "Berapa x dan y?"
   ]
  },
  {
   "cell_type": "code",
   "execution_count": 9,
   "metadata": {},
   "outputs": [
    {
     "name": "stdout",
     "output_type": "stream",
     "text": [
      "[-2.  9.]\n"
     ]
    }
   ],
   "source": [
    "a = np.array([\n",
    "    [2,1], [1,1]\n",
    "])\n",
    "b = np.array ([5,7])\n",
    "hasil = np.linalg.solve(a, b)\n",
    "print (hasil)"
   ]
  },
  {
   "cell_type": "markdown",
   "metadata": {},
   "source": [
    "__Linear Algebra membutuhkan minimal 2 dimensi__"
   ]
  },
  {
   "cell_type": "markdown",
   "metadata": {},
   "source": [
    "Soal : </br>\n",
    "3x = 6, berapa nilai x?"
   ]
  },
  {
   "cell_type": "code",
   "execution_count": 11,
   "metadata": {},
   "outputs": [
    {
     "name": "stdout",
     "output_type": "stream",
     "text": [
      "[2.]\n"
     ]
    }
   ],
   "source": [
    "x = np.array([3]).reshape(1,1)\n",
    "y = np.array([6])\n",
    "z = np.linalg.solve(x, y)\n",
    "print(z)"
   ]
  },
  {
   "cell_type": "markdown",
   "metadata": {},
   "source": [
    "4x + 7y = 2 </br>\n",
    "3x + 2y = -5 </br>\n",
    "Berapa nilai 2x - 3y?"
   ]
  },
  {
   "cell_type": "code",
   "execution_count": 13,
   "metadata": {},
   "outputs": [
    {
     "name": "stdout",
     "output_type": "stream",
     "text": [
      "[-3.  2.]\n"
     ]
    }
   ],
   "source": [
    "a = np.array([\n",
    "    [4,7],\n",
    "    [3,2]\n",
    "])\n",
    "b = np.array ([2, -5])\n",
    "hasil = np.linalg.solve(a,b)\n",
    "print (hasil)"
   ]
  },
  {
   "cell_type": "code",
   "execution_count": 14,
   "metadata": {},
   "outputs": [
    {
     "name": "stdout",
     "output_type": "stream",
     "text": [
      "-12.0\n"
     ]
    }
   ],
   "source": [
    "x = hasil[0]\n",
    "y = hasil[1]\n",
    "z = (2*x)-(3*y)\n",
    "print (z)"
   ]
  },
  {
   "cell_type": "code",
   "execution_count": 15,
   "metadata": {},
   "outputs": [
    {
     "name": "stdout",
     "output_type": "stream",
     "text": [
      "[-6. -6.]\n"
     ]
    }
   ],
   "source": [
    "anu = np.array([2, -3])\n",
    "hmm = anu * hasil\n",
    "print (hmm)"
   ]
  },
  {
   "cell_type": "markdown",
   "metadata": {},
   "source": [
    "Soal : </br>\n",
    "Jumlah Ayam dan Kambing 25, Jumlah kaki mereka 70. Berapa banyak ayam dan kambing?"
   ]
  },
  {
   "cell_type": "markdown",
   "metadata": {},
   "source": [
    "1A + 1K = 25 </br>\n",
    "2A + 4K = 70"
   ]
  },
  {
   "cell_type": "code",
   "execution_count": 17,
   "metadata": {},
   "outputs": [
    {
     "name": "stdout",
     "output_type": "stream",
     "text": [
      "Jumlah Ayam adalah 15.0 dan jumlah kambing adalah 10.0\n"
     ]
    }
   ],
   "source": [
    "a = np.array([\n",
    "    [1,1],\n",
    "    [2,4]\n",
    "])\n",
    "b = np.array ([25, 70])\n",
    "hasil = np.linalg.solve(a,b)\n",
    "print (f\"Jumlah Ayam adalah {hasil[0]} dan jumlah kambing adalah {hasil[1]}\")"
   ]
  },
  {
   "cell_type": "code",
   "execution_count": null,
   "metadata": {},
   "outputs": [],
   "source": []
  }
 ],
 "metadata": {
  "kernelspec": {
   "display_name": "Python 3",
   "language": "python",
   "name": "python3"
  },
  "language_info": {
   "codemirror_mode": {
    "name": "ipython",
    "version": 3
   },
   "file_extension": ".py",
   "mimetype": "text/x-python",
   "name": "python",
   "nbconvert_exporter": "python",
   "pygments_lexer": "ipython3",
   "version": "3.8.0"
  }
 },
 "nbformat": 4,
 "nbformat_minor": 4
}
