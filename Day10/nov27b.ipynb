{
 "cells": [
  {
   "cell_type": "code",
   "execution_count": 2,
   "metadata": {},
   "outputs": [],
   "source": [
    "import numpy as np"
   ]
  },
  {
   "cell_type": "code",
   "execution_count": 2,
   "metadata": {},
   "outputs": [],
   "source": [
    "x = [1,2,3,4,5]\n",
    "y = np.array(x)"
   ]
  },
  {
   "cell_type": "markdown",
   "metadata": {},
   "source": [
    "print (x)\n",
    "print (y)\n",
    "print (x + x)\n",
    "print (y + y)"
   ]
  },
  {
   "cell_type": "markdown",
   "metadata": {},
   "source": [
    "numpy array menghitung dalam bentuk matriks\n",
    "numpy array bisa membuat file dalam bentuk list atau tuple"
   ]
  },
  {
   "cell_type": "code",
   "execution_count": 5,
   "metadata": {},
   "outputs": [],
   "source": [
    "x = [\n",
    "    [1,2,3], [4,5,6]\n",
    "]\n",
    "y = np.array(x)"
   ]
  },
  {
   "cell_type": "markdown",
   "metadata": {},
   "source": [
    "untuk melihat indeks ke-n, bisa menggunakan (,)"
   ]
  },
  {
   "cell_type": "code",
   "execution_count": 6,
   "metadata": {},
   "outputs": [
    {
     "name": "stdout",
     "output_type": "stream",
     "text": [
      "5\n",
      "5\n"
     ]
    }
   ],
   "source": [
    "print (x[1][1])\n",
    "print (y[1,1])"
   ]
  },
  {
   "cell_type": "markdown",
   "metadata": {},
   "source": [
    "----"
   ]
  },
  {
   "cell_type": "markdown",
   "metadata": {},
   "source": [
    "### Cek dimensi Matriks"
   ]
  },
  {
   "cell_type": "markdown",
   "metadata": {},
   "source": [
    "Menggunakan syntax ndim"
   ]
  },
  {
   "cell_type": "code",
   "execution_count": 7,
   "metadata": {},
   "outputs": [
    {
     "name": "stdout",
     "output_type": "stream",
     "text": [
      "[1 2 3]\n",
      "1\n",
      "[[1 2 3]\n",
      " [4 5 6]]\n",
      "2\n",
      "[[[1 2 3]\n",
      "  [4 5 6]\n",
      "  [7 8 9]]]\n",
      "3\n"
     ]
    }
   ],
   "source": [
    "x = [1,2,3]\n",
    "x = np.array(x)\n",
    "y = [[1,2,3], [4,5,6]]\n",
    "y = np.array(y)\n",
    "z = [[[1,2,3], [4,5,6], [7,8,9]]]\n",
    "z = np.array(z)\n",
    "\n",
    "print (x)\n",
    "print (x.ndim)\n",
    "print (y)\n",
    "print (y.ndim)\n",
    "print (z)\n",
    "print (z.ndim)"
   ]
  },
  {
   "cell_type": "markdown",
   "metadata": {},
   "source": [
    "__Another Syntax__\n",
    "</br>size = melihat besar konten\n",
    "</br>dtype = melihat jenis konten"
   ]
  },
  {
   "cell_type": "code",
   "execution_count": 8,
   "metadata": {},
   "outputs": [
    {
     "name": "stdout",
     "output_type": "stream",
     "text": [
      "9\n",
      "int64\n",
      "8\n"
     ]
    }
   ],
   "source": [
    "z = [[[1,2,3], [4,5,6], [7,8,9]]]\n",
    "z = np.array(z)\n",
    "\n",
    "print (z.size)\n",
    "print (z.dtype)\n",
    "print (z.itemsize)"
   ]
  },
  {
   "cell_type": "code",
   "execution_count": 9,
   "metadata": {},
   "outputs": [
    {
     "name": "stdout",
     "output_type": "stream",
     "text": [
      "[[[1. 2. 3.]\n",
      "  [4. 5. 6.]\n",
      "  [7. 8. 9.]]]\n",
      "float64\n"
     ]
    }
   ],
   "source": [
    "z = z.astype(\"float64\")\n",
    "\n",
    "print (z)\n",
    "print (z.dtype)"
   ]
  },
  {
   "cell_type": "markdown",
   "metadata": {},
   "source": [
    "__Melihat shape dari sebuah matriks__"
   ]
  },
  {
   "cell_type": "code",
   "execution_count": 11,
   "metadata": {},
   "outputs": [
    {
     "name": "stdout",
     "output_type": "stream",
     "text": [
      "3\n",
      "(1, 3, 4)\n"
     ]
    }
   ],
   "source": [
    "z = [[[1,2,3,4],[5,6,7,8],[9,10,11,12]]]\n",
    "z = np.array(z)\n",
    "print (z.ndim)\n",
    "print (z.shape)"
   ]
  },
  {
   "cell_type": "markdown",
   "metadata": {},
   "source": [
    "Dimensi 3 > List level 3\n",
    "</br> Shape (1,3,4) = Dimensi 1 ada 1 elemen, dimensi 2 ada 3 elemen, dimensi 3 ada 4 elemen"
   ]
  },
  {
   "cell_type": "markdown",
   "metadata": {},
   "source": [
    "__Membuat range dari sebuah array__"
   ]
  },
  {
   "cell_type": "code",
   "execution_count": 12,
   "metadata": {},
   "outputs": [
    {
     "name": "stdout",
     "output_type": "stream",
     "text": [
      "[1 3 5 7 9]\n",
      "[1, 3, 5, 7, 9]\n"
     ]
    }
   ],
   "source": [
    "print(np.arange(1,10,2))\n",
    "print(list(range(1,10,2)))"
   ]
  },
  {
   "cell_type": "markdown",
   "metadata": {},
   "source": [
    "yang atas berupa array, yang bawah berupa list. Prinsipnya pun sama (start, stop, step)"
   ]
  },
  {
   "cell_type": "markdown",
   "metadata": {},
   "source": [
    "----"
   ]
  },
  {
   "cell_type": "markdown",
   "metadata": {},
   "source": [
    "__Random__"
   ]
  },
  {
   "cell_type": "code",
   "execution_count": 13,
   "metadata": {},
   "outputs": [
    {
     "name": "stdout",
     "output_type": "stream",
     "text": [
      "[0.15457699 0.8450429  0.79745426 0.71201876 0.39306921 0.35262873\n",
      " 0.63361648 0.14669469 0.24083358 0.36308191]\n"
     ]
    }
   ],
   "source": [
    "print (np.random.random(10))"
   ]
  },
  {
   "cell_type": "markdown",
   "metadata": {},
   "source": [
    "Menghasilkan 10 angka random dalam 1 dimensi, dengan value dari 0-1"
   ]
  },
  {
   "cell_type": "code",
   "execution_count": 14,
   "metadata": {},
   "outputs": [
    {
     "name": "stdout",
     "output_type": "stream",
     "text": [
      "[[0.96942566 0.30812414 0.49518818 0.83289644]\n",
      " [0.8475932  0.26019647 0.05261942 0.76401059]]\n"
     ]
    }
   ],
   "source": [
    "print (np.random.rand(2,4))"
   ]
  },
  {
   "cell_type": "markdown",
   "metadata": {},
   "source": [
    "Menghasilkan 2 dimensi dengan 4 konten angka random, dengan value dari 0-1"
   ]
  },
  {
   "cell_type": "code",
   "execution_count": 15,
   "metadata": {},
   "outputs": [
    {
     "name": "stdout",
     "output_type": "stream",
     "text": [
      "[1 6 0 5 4 1 0 3 0 4]\n",
      "[[2 1 6 6 6]\n",
      " [4 4 2 1 3]]\n"
     ]
    }
   ],
   "source": [
    "print (np.random.randint(7, size=10))\n",
    "print (np.random.randint(7, size=(2,5)))"
   ]
  },
  {
   "cell_type": "markdown",
   "metadata": {},
   "source": [
    "Atas : Menghasilkan angka random dengan dimensi 1,10 dengan value maksimal 7 </br>\n",
    "Bawah : Menghasilkan angka random dengan dimensi 2,5 dengan value maksimal 7"
   ]
  },
  {
   "cell_type": "markdown",
   "metadata": {},
   "source": [
    "----"
   ]
  },
  {
   "cell_type": "markdown",
   "metadata": {},
   "source": [
    "__Spacing__"
   ]
  },
  {
   "cell_type": "code",
   "execution_count": 18,
   "metadata": {},
   "outputs": [
    {
     "name": "stdout",
     "output_type": "stream",
     "text": [
      "[1. 2. 3. 4. 5.]\n",
      "[  0.  25.  50.  75. 100.]\n"
     ]
    }
   ],
   "source": [
    "print (np.linspace (1,5,5))\n",
    "print (np.linspace (0,100,5))"
   ]
  },
  {
   "cell_type": "markdown",
   "metadata": {},
   "source": [
    "(batas bawah, batas atas, jumlah)"
   ]
  },
  {
   "cell_type": "code",
   "execution_count": 20,
   "metadata": {},
   "outputs": [
    {
     "name": "stdout",
     "output_type": "stream",
     "text": [
      "3\n",
      "[3 6 9]\n",
      "[[1 2]\n",
      " [4 5]\n",
      " [7 8]]\n",
      "[1 4 7]\n",
      "[[1]\n",
      " [4]\n",
      " [7]]\n"
     ]
    }
   ],
   "source": [
    "a = [(1,2,3), (4,5,6), (7,8,9)]\n",
    "a = np.array(a)\n",
    "\n",
    "print (a[0,2])\n",
    "print (a[0:, 2])\n",
    "print (a[0:, 0:2])\n",
    "print (a[0:, 0])\n",
    "print (a[0:, :1])"
   ]
  },
  {
   "cell_type": "code",
   "execution_count": 21,
   "metadata": {},
   "outputs": [
    {
     "name": "stdout",
     "output_type": "stream",
     "text": [
      "[[ 1  5]\n",
      " [ 4  8]\n",
      " [ 7 11]]\n",
      "[[1]\n",
      " [4]\n",
      " [7]]\n",
      "(3, 1)\n",
      "3\n",
      "[1 4 7]\n",
      "(3,)\n",
      "3\n"
     ]
    }
   ],
   "source": [
    "a = [(1,2,3,4,5), (4,5,6,7,8), (7,8,9,10,11)]\n",
    "a = np.array(a)\n",
    "\n",
    "print (a[0:, (0,-1)])\n",
    "print (a[0:, :1])\n",
    "print (a[0:, :1].shape)\n",
    "print (a[0:, :1].size)\n",
    "print (a[0:, 0])\n",
    "print (a[0:, 0].shape)\n",
    "print (a[0:, 0].size)"
   ]
  },
  {
   "cell_type": "markdown",
   "metadata": {},
   "source": [
    "Matriks dengan size yang sama, bisa di-reshape"
   ]
  },
  {
   "cell_type": "code",
   "execution_count": 22,
   "metadata": {},
   "outputs": [
    {
     "name": "stdout",
     "output_type": "stream",
     "text": [
      "[1 4 7]\n",
      "[1 4 7]\n"
     ]
    }
   ],
   "source": [
    "print (a[0:, :1].reshape(3,))\n",
    "print (a[0:, 0])"
   ]
  },
  {
   "cell_type": "markdown",
   "metadata": {},
   "source": [
    "----"
   ]
  },
  {
   "cell_type": "markdown",
   "metadata": {},
   "source": [
    "#### Max and Min"
   ]
  },
  {
   "cell_type": "code",
   "execution_count": 7,
   "metadata": {},
   "outputs": [
    {
     "name": "stdout",
     "output_type": "stream",
     "text": [
      "5\n",
      "1\n",
      "5\n",
      "1\n"
     ]
    }
   ],
   "source": [
    "x = [1,4,5,2,3]\n",
    "y = np.array(x)\n",
    "\n",
    "print (max(x))\n",
    "print (min(x))\n",
    "\n",
    "print (y.max())\n",
    "print (y.min())"
   ]
  },
  {
   "cell_type": "code",
   "execution_count": 8,
   "metadata": {},
   "outputs": [
    {
     "name": "stdout",
     "output_type": "stream",
     "text": [
      "[1 2 3 4 5]\n"
     ]
    }
   ],
   "source": [
    "print (np.sort(y))"
   ]
  },
  {
   "cell_type": "code",
   "execution_count": 9,
   "metadata": {},
   "outputs": [
    {
     "name": "stdout",
     "output_type": "stream",
     "text": [
      "Min = 1 & Max = 9\n"
     ]
    }
   ],
   "source": [
    "def makmin (x):\n",
    "    y = np.array(x)\n",
    "    y = np.sort(y)\n",
    "    max = y[-1]\n",
    "    min = y[0]\n",
    "    return (f\"Min = {min} & Max = {max}\")\n",
    "\n",
    "x = [3,1,5,6,8,4,9]\n",
    "print (makmin(x))"
   ]
  },
  {
   "cell_type": "code",
   "execution_count": 11,
   "metadata": {},
   "outputs": [
    {
     "name": "stdout",
     "output_type": "stream",
     "text": [
      "36\n"
     ]
    }
   ],
   "source": [
    "from functools import reduce\n",
    "xsum = reduce(lambda a,b: a+b, x)\n",
    "print (xsum)"
   ]
  },
  {
   "cell_type": "code",
   "execution_count": 12,
   "metadata": {},
   "outputs": [
    {
     "name": "stdout",
     "output_type": "stream",
     "text": [
      "9\n",
      "1\n"
     ]
    }
   ],
   "source": [
    "xmax = reduce(lambda a,b : a if (a>b) else b, x)\n",
    "xmin = reduce(lambda a,b : a if (a<b) else b, x)\n",
    "print (xmax)\n",
    "print (xmin)"
   ]
  },
  {
   "cell_type": "markdown",
   "metadata": {},
   "source": [
    "----"
   ]
  },
  {
   "cell_type": "markdown",
   "metadata": {},
   "source": [
    "#### Mean and Median "
   ]
  },
  {
   "cell_type": "code",
   "execution_count": 13,
   "metadata": {},
   "outputs": [
    {
     "name": "stdout",
     "output_type": "stream",
     "text": [
      "5.142857142857143\n",
      "5.0\n"
     ]
    }
   ],
   "source": [
    "y = np.array(x)\n",
    "print (np.mean(y))\n",
    "print (np.median(y))"
   ]
  },
  {
   "cell_type": "markdown",
   "metadata": {},
   "source": [
    "----"
   ]
  },
  {
   "cell_type": "markdown",
   "metadata": {},
   "source": [
    "#### Trigonometri"
   ]
  },
  {
   "cell_type": "code",
   "execution_count": 14,
   "metadata": {},
   "outputs": [
    {
     "name": "stdout",
     "output_type": "stream",
     "text": [
      "3.141592653589793\n",
      "0.0\n",
      "1.0\n"
     ]
    }
   ],
   "source": [
    "print (np.pi)\n",
    "print (np.sin(0))\n",
    "print (np.cos(0))"
   ]
  },
  {
   "cell_type": "code",
   "execution_count": null,
   "metadata": {},
   "outputs": [],
   "source": []
  }
 ],
 "metadata": {
  "kernelspec": {
   "display_name": "Python 3",
   "language": "python",
   "name": "python3"
  },
  "language_info": {
   "codemirror_mode": {
    "name": "ipython",
    "version": 3
   },
   "file_extension": ".py",
   "mimetype": "text/x-python",
   "name": "python",
   "nbconvert_exporter": "python",
   "pygments_lexer": "ipython3",
   "version": "3.8.0"
  }
 },
 "nbformat": 4,
 "nbformat_minor": 4
}
