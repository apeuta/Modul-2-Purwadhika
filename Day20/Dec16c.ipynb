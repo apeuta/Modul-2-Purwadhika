{
 "cells": [
  {
   "cell_type": "markdown",
   "metadata": {},
   "source": [
    "### FOLIUM"
   ]
  },
  {
   "cell_type": "code",
   "execution_count": 1,
   "metadata": {},
   "outputs": [],
   "source": [
    "import folium"
   ]
  },
  {
   "cell_type": "markdown",
   "metadata": {},
   "source": [
    "link bawaan"
   ]
  },
  {
   "cell_type": "markdown",
   "metadata": {},
   "source": [
    "https://www.google.com/maps/place/Purwadhika+Startup+%26+Coding+School+BSD/@-6.3025804,106.6523964,16z/data=!4m5!3m4!1s0x2e69fb9545968651:0xa3d17293fd1fcd!8m2!3d-6.3024033!4d106.6522479"
   ]
  },
  {
   "cell_type": "markdown",
   "metadata": {},
   "source": [
    "bentuk baku"
   ]
  },
  {
   "cell_type": "markdown",
   "metadata": {},
   "source": [
    "https://www.google.com/maps/@-6.3025804,106.6523964,16z </br>\n",
    "-6.3025804 = lat, 106.6523964 = long, 16z = zoom"
   ]
  },
  {
   "cell_type": "code",
   "execution_count": 35,
   "metadata": {},
   "outputs": [
    {
     "data": {
      "text/html": [
       "<div style=\"width:100%;\"><div style=\"position:relative;width:100%;height:0;padding-bottom:60%;\"><iframe src=\"data:text/html;charset=utf-8;base64,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\" style=\"position:absolute;width:100%;height:100%;left:0;top:0;border:none !important;\" allowfullscreen webkitallowfullscreen mozallowfullscreen></iframe></div></div>"
      ],
      "text/plain": [
       "<folium.folium.Map at 0x10ce25fd0>"
      ]
     },
     "execution_count": 35,
     "metadata": {},
     "output_type": "execute_result"
    }
   ],
   "source": [
    "map = folium.Map(\n",
    "        location = [-6.3025804, 106.6522964],\n",
    "        tiles= \"OpenStreetMap\",\n",
    "        zoom_start = 18)\n",
    "folium.Marker(location = [-6.3025, 106.6523],\n",
    "             tooltip= \"<b>PURWADHIKA!</b>\",\n",
    "             popup= \"<i>Campus</i>\",\n",
    "             icon = folium.Icon(color=\"pink\")).add_to(map)\n",
    "\n",
    "folium.Marker(location = [-6.3024, 106.6522],\n",
    "             tooltip= \"<b>DEKETNYA PURWADHIKA!</b>\",\n",
    "             popup= \"<i>Campus</i>\",\n",
    "             icon = folium.Icon(color=\"orange\", prefix=\"fa\", icon=\"bullseye\")).add_to(map)\n",
    "\n",
    "folium.Marker(location = [-6.3026, 106.6524],\n",
    "             tooltip= '<img width=\"100px\" src=\"https://d10dnch8g6iuzs.cloudfront.net/picture/862201602091142030_o\"></img>',\n",
    "             popup= \"<i>Campus</i>\",\n",
    "             icon = folium.Icon(color=\"blue\", prefix=\"fa\", icon=\"bullseye\")).add_to(map)\n",
    "\n",
    "folium.Circle(location = [-6.3025, 106.6523],\n",
    "             radius = 50, color= \"red\", fill= True,\n",
    "             fill_color= \"yellow\").add_to(map)\n",
    "map"
   ]
  },
  {
   "cell_type": "code",
   "execution_count": 30,
   "metadata": {},
   "outputs": [],
   "source": [
    "map.save(\"peta.html\")"
   ]
  },
  {
   "cell_type": "code",
   "execution_count": null,
   "metadata": {},
   "outputs": [],
   "source": []
  }
 ],
 "metadata": {
  "kernelspec": {
   "display_name": "Python 3",
   "language": "python",
   "name": "python3"
  },
  "language_info": {
   "codemirror_mode": {
    "name": "ipython",
    "version": 3
   },
   "file_extension": ".py",
   "mimetype": "text/x-python",
   "name": "python",
   "nbconvert_exporter": "python",
   "pygments_lexer": "ipython3",
   "version": "3.8.0"
  }
 },
 "nbformat": 4,
 "nbformat_minor": 4
}
