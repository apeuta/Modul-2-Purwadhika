{
 "cells": [
  {
   "cell_type": "markdown",
   "metadata": {},
   "source": [
    "### CORELATION"
   ]
  },
  {
   "cell_type": "code",
   "execution_count": 1,
   "metadata": {},
   "outputs": [],
   "source": [
    "import pandas as pd\n",
    "import numpy as np\n",
    "import matplotlib.pyplot as plt\n",
    "import matplotlib.image as im"
   ]
  },
  {
   "cell_type": "code",
   "execution_count": 2,
   "metadata": {},
   "outputs": [
    {
     "data": {
      "text/html": [
       "<div>\n",
       "<style scoped>\n",
       "    .dataframe tbody tr th:only-of-type {\n",
       "        vertical-align: middle;\n",
       "    }\n",
       "\n",
       "    .dataframe tbody tr th {\n",
       "        vertical-align: top;\n",
       "    }\n",
       "\n",
       "    .dataframe thead th {\n",
       "        text-align: right;\n",
       "    }\n",
       "</style>\n",
       "<table border=\"1\" class=\"dataframe\">\n",
       "  <thead>\n",
       "    <tr style=\"text-align: right;\">\n",
       "      <th></th>\n",
       "      <th>BB</th>\n",
       "      <th>TB</th>\n",
       "      <th>freqMakan</th>\n",
       "      <th>freqLatihan</th>\n",
       "      <th>medal</th>\n",
       "    </tr>\n",
       "  </thead>\n",
       "  <tbody>\n",
       "    <tr>\n",
       "      <th>BB</th>\n",
       "      <td>1.000000</td>\n",
       "      <td>0.052414</td>\n",
       "      <td>0.944911</td>\n",
       "      <td>-0.994192</td>\n",
       "      <td>-0.981981</td>\n",
       "    </tr>\n",
       "    <tr>\n",
       "      <th>TB</th>\n",
       "      <td>0.052414</td>\n",
       "      <td>1.000000</td>\n",
       "      <td>-0.277350</td>\n",
       "      <td>-0.159586</td>\n",
       "      <td>-0.240192</td>\n",
       "    </tr>\n",
       "    <tr>\n",
       "      <th>freqMakan</th>\n",
       "      <td>0.944911</td>\n",
       "      <td>-0.277350</td>\n",
       "      <td>1.000000</td>\n",
       "      <td>-0.904194</td>\n",
       "      <td>-0.866025</td>\n",
       "    </tr>\n",
       "    <tr>\n",
       "      <th>freqLatihan</th>\n",
       "      <td>-0.994192</td>\n",
       "      <td>-0.159586</td>\n",
       "      <td>-0.904194</td>\n",
       "      <td>1.000000</td>\n",
       "      <td>0.996616</td>\n",
       "    </tr>\n",
       "    <tr>\n",
       "      <th>medal</th>\n",
       "      <td>-0.981981</td>\n",
       "      <td>-0.240192</td>\n",
       "      <td>-0.866025</td>\n",
       "      <td>0.996616</td>\n",
       "      <td>1.000000</td>\n",
       "    </tr>\n",
       "  </tbody>\n",
       "</table>\n",
       "</div>"
      ],
      "text/plain": [
       "                   BB        TB  freqMakan  freqLatihan     medal\n",
       "BB           1.000000  0.052414   0.944911    -0.994192 -0.981981\n",
       "TB           0.052414  1.000000  -0.277350    -0.159586 -0.240192\n",
       "freqMakan    0.944911 -0.277350   1.000000    -0.904194 -0.866025\n",
       "freqLatihan -0.994192 -0.159586  -0.904194     1.000000  0.996616\n",
       "medal       -0.981981 -0.240192  -0.866025     0.996616  1.000000"
      ]
     },
     "execution_count": 2,
     "metadata": {},
     "output_type": "execute_result"
    }
   ],
   "source": [
    "df = pd.read_csv(\"atlit.csv\")\n",
    "df.corr()"
   ]
  },
  {
   "cell_type": "code",
   "execution_count": 21,
   "metadata": {},
   "outputs": [
    {
     "data": {
      "image/png": "[encoded data removed]",
      "text/plain": [
       "<Figure size 432x288 with 2 Axes>"
      ]
     },
     "metadata": {
      "needs_background": "light"
     },
     "output_type": "display_data"
    }
   ],
   "source": [
    "plt.imshow(df.corr(), cmap=\"magma\")\n",
    "plt.colorbar()\n",
    "\n",
    "col = list(map(lambda x: x[1], df.corr().columns.tolist()))\n",
    "\n",
    "#label axis x\n",
    "plt.xticks(\n",
    "    np.arange(len(df.corr().index)),\n",
    "    df.corr().index.tolist(),\n",
    "    rotation= 45)\n",
    "\n",
    "#label axis y\n",
    "plt.yticks(\n",
    "    np.arange(len(df.corr().index)),\n",
    "    df.corr().index.tolist())\n",
    "\n",
    "#put value\n",
    "for x in range(len(col)):\n",
    "    for y in range (len(col)):\n",
    "        plt.text(y, x, round(df.corr().iloc[x, y],3), color=\"orange\",\n",
    "              ha= \"center\", va= \"center\")\n",
    "plt.show()"
   ]
  },
  {
   "cell_type": "code",
   "execution_count": null,
   "metadata": {},
   "outputs": [],
   "source": []
  }
 ],
 "metadata": {
  "kernelspec": {
   "display_name": "Python 3",
   "language": "python",
   "name": "python3"
  },
  "language_info": {
   "codemirror_mode": {
    "name": "ipython",
    "version": 3
   },
   "file_extension": ".py",
   "mimetype": "text/x-python",
   "name": "python",
   "nbconvert_exporter": "python",
   "pygments_lexer": "ipython3",
   "version": "3.8.0"
  }
 },
 "nbformat": 4,
 "nbformat_minor": 4
}
